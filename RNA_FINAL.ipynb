{
  "cells": [
    {
      "metadata": {
        "_uuid": "be338c1d16074ccabc134910893e3f80da3dd1fb",
        "id": "QXyDMUwOURdS"
      },
      "cell_type": "markdown",
      "source": [
        "* For more detailed explanations, you can check the following link: https://www.kaggle.com/kanncaa1/deep-learning-tutorial-for-beginners.\n",
        "* In this link, Artificial Neural Network (ANN) is explained in very detail and a 2-Layer ANN model is coded explicitly.\n",
        "* In my kernel, I implemented a 3-layer ANN model explicitly."
      ]
    },
    {
      "metadata": {
        "_uuid": "8f2839f25d086af736a60e9eeb907d3b93b6e0e5",
        "_cell_guid": "b1076dfc-b9ad-4769-8c92-a6c4dae69d19",
        "trusted": true,
        "id": "Ny9rcSCaURdW"
      },
      "cell_type": "code",
      "source": [
        "import pandas as pd\n",
        "import numpy as np\n",
        "\n",
        "import matplotlib.pyplot as plt # for vizualization\n",
        "from matplotlib.pyplot import figure # for figuresize"
      ],
      "execution_count": 1,
      "outputs": []
    },
    {
      "metadata": {
        "_uuid": "90a844904bed69e10300ce6a1ebe335acde66fdd",
        "id": "bkFEVAI1URdX"
      },
      "cell_type": "markdown",
      "source": [
        "## Import data"
      ]
    },
    {
      "metadata": {
        "trusted": true,
        "_uuid": "56cb9a1dfafadf1d64a11823a30af8764b91b0a6",
        "id": "0mxX98VgURdY"
      },
      "cell_type": "code",
      "source": [
        "url ='https://raw.githubusercontent.com/RafaelCastro32/RNA/main/dadosmamografia.csv'\n",
        "voice_data = pd.read_csv(url)"
      ],
      "execution_count": 2,
      "outputs": []
    },
    {
      "metadata": {
        "_uuid": "6076bdb43406651943b5d441869f3486b846f594",
        "id": "neAWWyQfURdY"
      },
      "cell_type": "markdown",
      "source": [
        "## Preview data"
      ]
    },
    {
      "metadata": {
        "trusted": true,
        "_uuid": "8e54afaa74d527bd6a8f62c40f816508257be013",
        "colab": {
          "base_uri": "https://localhost:8080/",
          "height": 206
        },
        "id": "38ElJKkjURdZ",
        "outputId": "d4c0494e-aec8-4e42-b976-940e2fa34b5b"
      },
      "cell_type": "code",
      "source": [
        "voice_data.head()"
      ],
      "execution_count": 3,
      "outputs": [
        {
          "output_type": "execute_result",
          "data": {
            "text/plain": [
              "   Avaliação BI-RADS  idade  forma  margem  densidade  label\n",
              "0                  5     67      3       5          3      1\n",
              "1                  5     58      4       5          3      1\n",
              "2                  4     28      1       1          3      0\n",
              "3                  5     57      1       5          3      1\n",
              "4                  5     76      1       4          3      1"
            ],
            "text/html": [
              "\n",
              "  <div id=\"df-83a62ca4-9092-4f09-b7c1-dea803462731\">\n",
              "    <div class=\"colab-df-container\">\n",
              "      <div>\n",
              "<style scoped>\n",
              "    .dataframe tbody tr th:only-of-type {\n",
              "        vertical-align: middle;\n",
              "    }\n",
              "\n",
              "    .dataframe tbody tr th {\n",
              "        vertical-align: top;\n",
              "    }\n",
              "\n",
              "    .dataframe thead th {\n",
              "        text-align: right;\n",
              "    }\n",
              "</style>\n",
              "<table border=\"1\" class=\"dataframe\">\n",
              "  <thead>\n",
              "    <tr style=\"text-align: right;\">\n",
              "      <th></th>\n",
              "      <th>Avaliação BI-RADS</th>\n",
              "      <th>idade</th>\n",
              "      <th>forma</th>\n",
              "      <th>margem</th>\n",
              "      <th>densidade</th>\n",
              "      <th>label</th>\n",
              "    </tr>\n",
              "  </thead>\n",
              "  <tbody>\n",
              "    <tr>\n",
              "      <th>0</th>\n",
              "      <td>5</td>\n",
              "      <td>67</td>\n",
              "      <td>3</td>\n",
              "      <td>5</td>\n",
              "      <td>3</td>\n",
              "      <td>1</td>\n",
              "    </tr>\n",
              "    <tr>\n",
              "      <th>1</th>\n",
              "      <td>5</td>\n",
              "      <td>58</td>\n",
              "      <td>4</td>\n",
              "      <td>5</td>\n",
              "      <td>3</td>\n",
              "      <td>1</td>\n",
              "    </tr>\n",
              "    <tr>\n",
              "      <th>2</th>\n",
              "      <td>4</td>\n",
              "      <td>28</td>\n",
              "      <td>1</td>\n",
              "      <td>1</td>\n",
              "      <td>3</td>\n",
              "      <td>0</td>\n",
              "    </tr>\n",
              "    <tr>\n",
              "      <th>3</th>\n",
              "      <td>5</td>\n",
              "      <td>57</td>\n",
              "      <td>1</td>\n",
              "      <td>5</td>\n",
              "      <td>3</td>\n",
              "      <td>1</td>\n",
              "    </tr>\n",
              "    <tr>\n",
              "      <th>4</th>\n",
              "      <td>5</td>\n",
              "      <td>76</td>\n",
              "      <td>1</td>\n",
              "      <td>4</td>\n",
              "      <td>3</td>\n",
              "      <td>1</td>\n",
              "    </tr>\n",
              "  </tbody>\n",
              "</table>\n",
              "</div>\n",
              "      <button class=\"colab-df-convert\" onclick=\"convertToInteractive('df-83a62ca4-9092-4f09-b7c1-dea803462731')\"\n",
              "              title=\"Convert this dataframe to an interactive table.\"\n",
              "              style=\"display:none;\">\n",
              "        \n",
              "  <svg xmlns=\"http://www.w3.org/2000/svg\" height=\"24px\"viewBox=\"0 0 24 24\"\n",
              "       width=\"24px\">\n",
              "    <path d=\"M0 0h24v24H0V0z\" fill=\"none\"/>\n",
              "    <path d=\"M18.56 5.44l.94 2.06.94-2.06 2.06-.94-2.06-.94-.94-2.06-.94 2.06-2.06.94zm-11 1L8.5 8.5l.94-2.06 2.06-.94-2.06-.94L8.5 2.5l-.94 2.06-2.06.94zm10 10l.94 2.06.94-2.06 2.06-.94-2.06-.94-.94-2.06-.94 2.06-2.06.94z\"/><path d=\"M17.41 7.96l-1.37-1.37c-.4-.4-.92-.59-1.43-.59-.52 0-1.04.2-1.43.59L10.3 9.45l-7.72 7.72c-.78.78-.78 2.05 0 2.83L4 21.41c.39.39.9.59 1.41.59.51 0 1.02-.2 1.41-.59l7.78-7.78 2.81-2.81c.8-.78.8-2.07 0-2.86zM5.41 20L4 18.59l7.72-7.72 1.47 1.35L5.41 20z\"/>\n",
              "  </svg>\n",
              "      </button>\n",
              "      \n",
              "  <style>\n",
              "    .colab-df-container {\n",
              "      display:flex;\n",
              "      flex-wrap:wrap;\n",
              "      gap: 12px;\n",
              "    }\n",
              "\n",
              "    .colab-df-convert {\n",
              "      background-color: #E8F0FE;\n",
              "      border: none;\n",
              "      border-radius: 50%;\n",
              "      cursor: pointer;\n",
              "      display: none;\n",
              "      fill: #1967D2;\n",
              "      height: 32px;\n",
              "      padding: 0 0 0 0;\n",
              "      width: 32px;\n",
              "    }\n",
              "\n",
              "    .colab-df-convert:hover {\n",
              "      background-color: #E2EBFA;\n",
              "      box-shadow: 0px 1px 2px rgba(60, 64, 67, 0.3), 0px 1px 3px 1px rgba(60, 64, 67, 0.15);\n",
              "      fill: #174EA6;\n",
              "    }\n",
              "\n",
              "    [theme=dark] .colab-df-convert {\n",
              "      background-color: #3B4455;\n",
              "      fill: #D2E3FC;\n",
              "    }\n",
              "\n",
              "    [theme=dark] .colab-df-convert:hover {\n",
              "      background-color: #434B5C;\n",
              "      box-shadow: 0px 1px 3px 1px rgba(0, 0, 0, 0.15);\n",
              "      filter: drop-shadow(0px 1px 2px rgba(0, 0, 0, 0.3));\n",
              "      fill: #FFFFFF;\n",
              "    }\n",
              "  </style>\n",
              "\n",
              "      <script>\n",
              "        const buttonEl =\n",
              "          document.querySelector('#df-83a62ca4-9092-4f09-b7c1-dea803462731 button.colab-df-convert');\n",
              "        buttonEl.style.display =\n",
              "          google.colab.kernel.accessAllowed ? 'block' : 'none';\n",
              "\n",
              "        async function convertToInteractive(key) {\n",
              "          const element = document.querySelector('#df-83a62ca4-9092-4f09-b7c1-dea803462731');\n",
              "          const dataTable =\n",
              "            await google.colab.kernel.invokeFunction('convertToInteractive',\n",
              "                                                     [key], {});\n",
              "          if (!dataTable) return;\n",
              "\n",
              "          const docLinkHtml = 'Like what you see? Visit the ' +\n",
              "            '<a target=\"_blank\" href=https://colab.research.google.com/notebooks/data_table.ipynb>data table notebook</a>'\n",
              "            + ' to learn more about interactive tables.';\n",
              "          element.innerHTML = '';\n",
              "          dataTable['output_type'] = 'display_data';\n",
              "          await google.colab.output.renderOutput(dataTable, element);\n",
              "          const docLink = document.createElement('div');\n",
              "          docLink.innerHTML = docLinkHtml;\n",
              "          element.appendChild(docLink);\n",
              "        }\n",
              "      </script>\n",
              "    </div>\n",
              "  </div>\n",
              "  "
            ]
          },
          "metadata": {},
          "execution_count": 3
        }
      ]
    },
    {
      "cell_type": "code",
      "source": [
        "print(len(voice_data))\n",
        "print(len(voice_data.columns))"
      ],
      "metadata": {
        "colab": {
          "base_uri": "https://localhost:8080/"
        },
        "id": "Rf5D-zeM1N2K",
        "outputId": "5bbc3a0f-d51c-417c-e4b7-1af11b357e52"
      },
      "execution_count": 62,
      "outputs": [
        {
          "output_type": "stream",
          "name": "stdout",
          "text": [
            "834\n",
            "6\n"
          ]
        }
      ]
    },
    {
      "metadata": {
        "_uuid": "51cb90e79a5cfb2a3d4fc3285d005d047af7c712",
        "id": "RfVm6RDJURda"
      },
      "cell_type": "markdown",
      "source": [
        "Extrair informações de gênero (Y_data) e recurso (X_data)"
      ]
    },
    {
      "metadata": {
        "trusted": true,
        "_uuid": "b221033582e48e13103aeb93fd5e8c52a13d5289",
        "id": "_kfnr5TlURdb"
      },
      "cell_type": "code",
      "source": [
        "Y_data = voice_data.label.values\n",
        "X_data = voice_data.drop([\"label\"], axis = 1)\n",
        "X_data = (X_data - X_data.min())/(X_data.max() - X_data.min()) # normalization"
      ],
      "execution_count": 34,
      "outputs": []
    },
    {
      "metadata": {
        "trusted": true,
        "_uuid": "42dcfef6e7a0ee790df695c077bd6699f431937f",
        "colab": {
          "base_uri": "https://localhost:8080/"
        },
        "id": "JB7NtaMJURdc",
        "outputId": "6ecdf0a8-3a43-4100-a9e5-7903b7887c4d"
      },
      "cell_type": "code",
      "source": [
        "print(voice_data.shape)\n",
        "print(X_data.shape)\n",
        "print(Y_data.shape)"
      ],
      "execution_count": 63,
      "outputs": [
        {
          "output_type": "stream",
          "name": "stdout",
          "text": [
            "(834, 6)\n",
            "(834, 5)\n",
            "(834,)\n"
          ]
        }
      ]
    },
    {
      "metadata": {
        "_uuid": "30e52cdb9bad8aa092905b09135f8782b06777fe",
        "id": "vA_a7sz6URdc"
      },
      "cell_type": "markdown",
      "source": [
        "## Vizualization of voice_data, X_data and Y_data\n",
        "<a href=\"https://ibb.co/ePbiaA\"><img src=\"https://preview.ibb.co/gwBGvA/im1.png\" alt=\"im1\" border=\"0\"></a>"
      ]
    },
    {
      "metadata": {
        "_uuid": "b68a9c5d5893ca33fc7d300d8e693c6c0cadc1f9",
        "id": "Od_dMJneURdc"
      },
      "cell_type": "markdown",
      "source": [
        "Dividir dados para fins de treinamento e teste"
      ]
    },
    {
      "metadata": {
        "trusted": true,
        "_uuid": "7982404a173bf826fbcc5dffc9bee6a4c5d90240",
        "id": "GzB1FuT7URdc"
      },
      "cell_type": "code",
      "source": [
        "from sklearn.model_selection import train_test_split\n",
        "x_train, x_test, y_train, y_test = train_test_split(X_data, Y_data, test_size = 0.3, random_state = 42)\n",
        "y_train = y_train.reshape(-1,1)\n",
        "y_test = y_test.reshape(-1,1)"
      ],
      "execution_count": 40,
      "outputs": []
    },
    {
      "metadata": {
        "trusted": true,
        "_uuid": "98d1170abd954741b878a6b5851bb1c2a9e3f818",
        "id": "mtHOawvqURdd"
      },
      "cell_type": "code",
      "source": [
        "x_train = x_train.T\n",
        "x_test = x_test.T\n",
        "y_train = y_train.T\n",
        "y_test = y_test.T"
      ],
      "execution_count": 41,
      "outputs": []
    },
    {
      "metadata": {
        "trusted": true,
        "_uuid": "bc5804e20850bc3017bdbd00559f5110364fc588",
        "colab": {
          "base_uri": "https://localhost:8080/"
        },
        "id": "knRfAKYkURdd",
        "outputId": "8fbc1414-7759-480a-99f3-3ca8d891e969"
      },
      "cell_type": "code",
      "source": [
        "print(x_train.shape)\n",
        "print(y_train.shape)\n",
        "print(x_test.shape)\n",
        "print(y_test.shape)\n",
        "print('***'*10)\n",
        "x_train.info()"
      ],
      "execution_count": 82,
      "outputs": [
        {
          "output_type": "stream",
          "name": "stdout",
          "text": [
            "(5, 583)\n",
            "(1, 583)\n",
            "(5, 251)\n",
            "(1, 251)\n",
            "******************************\n",
            "<class 'pandas.core.frame.DataFrame'>\n",
            "Index: 5 entries, Avaliação BI-RADS to densidade\n",
            "Columns: 583 entries, 234 to 102\n",
            "dtypes: float64(583)\n",
            "memory usage: 23.0+ KB\n"
          ]
        }
      ]
    },
    {
      "metadata": {
        "_uuid": "02a8dff346942454e06b1916326c6cfe13632523",
        "id": "x6WipCCZURde"
      },
      "cell_type": "markdown",
      "source": [
        "## 3-Layer Artificial Neural Network (ANN) Construction\n",
        "<a href=\"https://ibb.co/dGQUyV\"><img src=\"https://preview.ibb.co/eRs9yV/im2.png\" alt=\"im2\" border=\"0\"></a>"
      ]
    },
    {
      "metadata": {
        "_uuid": "6f351599cccbc4d4078e0b9cd70f0996d054ea87",
        "id": "QlFYzxa3URde"
      },
      "cell_type": "markdown",
      "source": [
        "Crie peso e viés para rede neural de 3 camadas (2 camadas ocultas)"
      ]
    },
    {
      "metadata": {
        "trusted": true,
        "_uuid": "11a450ef26597aa728b8fe73df7b804383ce73aa",
        "id": "MuzPxP1QURde"
      },
      "cell_type": "code",
      "source": [
        "def initialize_parameters_and_layer_sizes_NN(x_train, y_train):\n",
        "    \n",
        "    parameters = {\"W1\": np.random.randn(2,x_train.shape[0]) * 0.1,\n",
        "                  \"b1\": np.zeros((2,1)),\n",
        "                  \"W2\": np.random.randn(2,2) * 0.1,\n",
        "                  \"b2\": np.zeros((2,1)),\n",
        "                  \"W3\": np.random.randn(1,2) * 0.1,\n",
        "                  \"b3\": np.zeros((1,1))}\n",
        "    \n",
        "    return parameters\n",
        "\n",
        "parameters = initialize_parameters_and_layer_sizes_NN(x_train, y_train)"
      ],
      "execution_count": 43,
      "outputs": []
    },
    {
      "metadata": {
        "trusted": true,
        "_uuid": "bcee4137ccbe41f274f5d25e0b8804ffa625b34d",
        "colab": {
          "base_uri": "https://localhost:8080/"
        },
        "id": "-QkdFrZiURde",
        "outputId": "8d7c2cf9-e44b-4d2c-9f6b-7f9cc22f65f3"
      },
      "cell_type": "code",
      "source": [
        "print(parameters[\"W1\"].shape)\n",
        "print(parameters[\"W2\"].shape)\n",
        "print(parameters[\"W3\"].shape)\n",
        "print(parameters)"
      ],
      "execution_count": 93,
      "outputs": [
        {
          "output_type": "stream",
          "name": "stdout",
          "text": [
            "(2, 5)\n",
            "(2, 2)\n",
            "(1, 2)\n",
            "{'W1': array([[ 0.09836513,  0.01063276, -0.06572223, -0.14277058, -0.05708503],\n",
            "       [-0.0841129 ,  0.10908082,  0.17938322, -0.18399776,  0.10782966]]), 'b1': array([[0.],\n",
            "       [0.]]), 'W2': array([[ 0.14663766, -0.05597481],\n",
            "       [ 0.03508035,  0.03854485]]), 'b2': array([[0.],\n",
            "       [0.]]), 'W3': array([[-0.05894229, -0.13236169]]), 'b3': array([[0.]])}\n"
          ]
        }
      ]
    },
    {
      "metadata": {
        "trusted": true,
        "_uuid": "11a1fffdd57f6a28b95c072068a7b3c7f3e55b5c",
        "colab": {
          "base_uri": "https://localhost:8080/"
        },
        "id": "ldUpNz8cURdf",
        "outputId": "a309ee2f-9d16-48aa-fa08-e3d4d73aba9e"
      },
      "cell_type": "code",
      "source": [
        "print(parameters[\"b1\"].shape)\n",
        "print(parameters[\"b2\"].shape)\n",
        "print(parameters[\"b3\"].shape)"
      ],
      "execution_count": 11,
      "outputs": [
        {
          "output_type": "stream",
          "name": "stdout",
          "text": [
            "(2, 1)\n",
            "(2, 1)\n",
            "(1, 1)\n"
          ]
        }
      ]
    },
    {
      "metadata": {
        "_uuid": "f945e9996f8d88d32a7080be804b76c67e7f482b",
        "id": "KcoPlGLcURdf"
      },
      "cell_type": "markdown",
      "source": [
        "## Sigmoid function :  sigmoid(x) = 1 / ( 1 + exp(-x) )"
      ]
    },
    {
      "metadata": {
        "trusted": true,
        "_uuid": "7225ca7f92dd454bb05b04f318a4c3ef47976aec",
        "id": "ItiW-_IMURdf"
      },
      "cell_type": "code",
      "source": [
        "def sigmoid(z):\n",
        "    return 1/(1 + np.exp(-z))"
      ],
      "execution_count": null,
      "outputs": []
    },
    {
      "metadata": {
        "_uuid": "85bc50c95d2c28c6ce8f479df567589244ad8f48",
        "id": "B6zFhXofURdf"
      },
      "cell_type": "markdown",
      "source": [
        "## Forward Propagation"
      ]
    },
    {
      "metadata": {
        "trusted": true,
        "_uuid": "fe949e0387cb25f689e723782e6b3906c4e6e868",
        "id": "cxFlHoaPURdg"
      },
      "cell_type": "code",
      "source": [
        "def forward_propagation_NN(x_train, parameters):\n",
        "    \n",
        "    Z1 = np.dot(parameters[\"W1\"],x_train) + parameters[\"b1\"]\n",
        "    A1 = sigmoid(Z1) # tanh is used as activation function 1\n",
        "    Z2 = np.dot(parameters[\"W2\"],A1) + parameters[\"b2\"]\n",
        "    A2 = sigmoid(Z2) # tanh is used as activation function 2\n",
        "    Z3 = np.dot(parameters[\"W3\"],A2) + parameters[\"b3\"]\n",
        "    A3 = sigmoid(Z3)\n",
        "\n",
        "    cache = {\"Z1\": Z1,\n",
        "             \"A1\": A1,\n",
        "             \"W1\": parameters[\"W1\"],\n",
        "             \"Z2\": Z2,\n",
        "             \"A2\": A2,\n",
        "             \"W2\": parameters[\"W2\"],\n",
        "             \"Z3\": Z3,\n",
        "             \"A3\": A3,\n",
        "             \"W3\": parameters[\"W3\"]}\n",
        "    \n",
        "    return A3, cache\n",
        "\n",
        "A3, cache = forward_propagation_NN(x_train, parameters)"
      ],
      "execution_count": 97,
      "outputs": []
    },
    {
      "cell_type": "code",
      "source": [
        "cache\n"
      ],
      "metadata": {
        "id": "5SwOqiTF6ybE"
      },
      "execution_count": null,
      "outputs": []
    },
    {
      "metadata": {
        "_uuid": "c56374f85fa97ebc8f384133ce256c58ef9a71de",
        "id": "F9i6Z1qWURdg"
      },
      "cell_type": "markdown",
      "source": [
        "## Função de perda e função de custo\n",
        "* As funções de perda e custo são as mesmas da regressão logística\n",
        "* Função de entropia cruzada\n",
        "<a href=\"https://imgbb.com/\"><img src=\"https://image.ibb.co/nyR9LU/as.jpg\" alt=\"as\" border=\"0\"></a><br />"
      ]
    },
    {
      "metadata": {
        "_uuid": "0f874fa3471342415a0dc0064608d7975067dde6",
        "id": "t9_zMFqHURdg"
      },
      "cell_type": "markdown",
      "source": [
        "Custo de computação"
      ]
    },
    {
      "metadata": {
        "trusted": true,
        "_uuid": "f75e7cb67cec5e030715f62f71b6fa055e812e01",
        "id": "yOVvs9naURdg"
      },
      "cell_type": "code",
      "source": [
        "def compute_cost_NN(A3, Y, parameters):\n",
        "    \n",
        "    logprobs = np.multiply(np.log(A3),Y)\n",
        "    cost = -np.sum(logprobs)/Y.shape[1]\n",
        "    \n",
        "    return cost\n",
        "\n",
        "cost = compute_cost_NN(A3, y_train, parameters)"
      ],
      "execution_count": 123,
      "outputs": []
    },
    {
      "cell_type": "code",
      "source": [
        "cost"
      ],
      "metadata": {
        "colab": {
          "base_uri": "https://localhost:8080/"
        },
        "id": "rOh1ZdhmGezw",
        "outputId": "9f462778-615f-4c52-efff-4efef504b043"
      },
      "execution_count": 128,
      "outputs": [
        {
          "output_type": "execute_result",
          "data": {
            "text/plain": [
              "0.3759930903007114"
            ]
          },
          "metadata": {},
          "execution_count": 128
        }
      ]
    },
    {
      "cell_type": "markdown",
      "source": [
        "O Black Propagation visa minimizar a função de custo ajustando os pesos e vieses da rede.O nível de ajuste é determinado pelos gradientes da função de custo em relação a esses parâmetros. https://towardsdatascience.com/understanding-backpropagation-algorithm-7bb3aa2f95fd"
      ],
      "metadata": {
        "id": "91fjWXlNKESt"
      }
    },
    {
      "cell_type": "markdown",
      "source": [
        "O derivado de uma função de custo mede a sensibilidade à alteração do valor da função (valor de saída) em relação a uma alteração em seu argumento x (valor de entrada). Em outras palavras, a derivada nos diz a direção C está indo.\n",
        "O gradiente mostra o quanto o parâmetro x precisa mudar (na direção positiva ou negativa) para minimizar C.\n",
        "Calcular esses gradientes acontece usando uma técnica chamada regra de cadeia."
      ],
      "metadata": {
        "id": "oxxTB9UMLdOF"
      }
    },
    {
      "metadata": {
        "_uuid": "19eebf50636c31a1c0dde016f49c196475024607",
        "id": "z_ANnm1YURdg"
      },
      "cell_type": "markdown",
      "source": [
        "## Backward Propagation with Gradient Decent"
      ]
    },
    {
      "metadata": {
        "trusted": true,
        "_uuid": "22f3787645ca51abe55c7bccc2a783f7b7bcd1b9",
        "id": "VDniF9CkURdh"
      },
      "cell_type": "code",
      "source": [
        "def backward_propagation_NN(parameters, cache, X, Y):\n",
        "    \n",
        "    dimension = X.shape[0] # é 5 caracteristicas para o nosso caso\n",
        "    dZ3 = cache[\"A3\"] - Y # d(cost)/d(Z3)\n",
        "    dW3 = 1/dimension * np.dot(dZ3,cache[\"A2\"].T) # d(cost)/d(W3)\n",
        "    db3 = 1/dimension * np.sum(dZ3, axis=1, keepdims=True) # d(cost)/d(b3) e axis=0(col) e 1(lin)\n",
        "    dZ2 = np.multiply(np.dot(dZ3.T, cache[\"W3\"]).T , 1-np.power(cache[\"A2\"],2)) # d(cost)/d(Z2)\n",
        "    dW2 = 1/dimension * np.dot(cache[\"A1\"], dZ2.T) # d(cost)/d(W2)\n",
        "    db2 = 1/dimension * np.sum(dZ2, axis=1, keepdims=True) # d(cost)/d(b2)\n",
        "    dZ1 = np.multiply(np.dot(dZ2.T, cache[\"W2\"].T).T,1-np.power(cache[\"A1\"],2)) # d(cost)/d(Z1)\n",
        "    dW1 = 1/dimension * np.dot(dZ1, X.T) # d(cost)/d(W1)\n",
        "    db1 = 1/dimension * np.sum(dZ1,axis=1, keepdims=True) # d(cost)/d(b1)\n",
        "    grads = {'dW3':dW3, \n",
        "             'db3':db3,\n",
        "             'dW2':dW2,\n",
        "             'db2':db2,\n",
        "             'dW1':dW1,\n",
        "             'db1':db1}\n",
        "    \n",
        "    return grads\n",
        "\n",
        "grads = backward_propagation_NN(parameters, cache, x_train, y_train)"
      ],
      "execution_count": 125,
      "outputs": []
    },
    {
      "cell_type": "code",
      "source": [
        "#print(grads)\n",
        "#print(grads[\"dW3\"].shape)\n",
        "print(grads[\"dW1\"])\n",
        "print(grads[\"dW1\"].shape)\n"
      ],
      "metadata": {
        "colab": {
          "base_uri": "https://localhost:8080/"
        },
        "id": "Mp7hobUUOEY3",
        "outputId": "9d66c391-45f8-40a4-a469-d994f15e86e5"
      },
      "execution_count": 144,
      "outputs": [
        {
          "output_type": "stream",
          "name": "stdout",
          "text": [
            "[[0.00455085 0.00492787 0.01151612 0.01062051 0.00224464]\n",
            " [0.02244537 0.02555196 0.06198081 0.05779202 0.00980461]]\n",
            "(2, 5)\n"
          ]
        }
      ]
    },
    {
      "metadata": {
        "_uuid": "06e598a64281f7d43cc9d9cf60f432f830e179c6",
        "id": "_6bWRkfpURdh"
      },
      "cell_type": "markdown",
      "source": [
        "##  Defina a taxa de aprendizado\n",
        "A quantidade que os pesos são atualizados durante o treinamento é referida como o tamanho da etapa ou a \"taxa de aprendizagem\".\n",
        "\n",
        "A taxa de aprendizagem controla a rapidez com que o modelo é adaptado ao problema. Taxas de aprendizagem menores exigem mais épocas de treinamento, dadas as pequenas mudanças feitas nos pesos a cada atualização, enquanto taxas de aprendizagem maiores resultam em mudanças rápidas e requerem menos épocas de treinamento."
      ]
    },
    {
      "metadata": {
        "trusted": true,
        "_uuid": "d8832af043584b569157e1e291362ff41c9b12a3",
        "id": "YHPSOSiTURdh"
      },
      "cell_type": "code",
      "source": [
        "Learning_Rate = 0.001"
      ],
      "execution_count": 16,
      "outputs": []
    },
    {
      "metadata": {
        "_uuid": "ecdc8b9fa164ecec1f884b28caa918caf2bf0879",
        "id": "oem9BMJXURdh"
      },
      "cell_type": "markdown",
      "source": [
        "## Update weight and bias"
      ]
    },
    {
      "metadata": {
        "trusted": true,
        "_uuid": "39b64d274b1d3acd4ae40163c534e2b4ecd25178",
        "id": "pMhTO-3NURdh"
      },
      "cell_type": "code",
      "source": [
        "def update_parameters_NN(parameters, grads, learning_rate = Learning_Rate):\n",
        "    parameters = {\"W1\": parameters[\"W1\"]-learning_rate*grads[\"dW1\"],\n",
        "                  \"b1\": parameters[\"b1\"]-learning_rate*grads[\"db1\"],\n",
        "                  \"W2\": parameters[\"W2\"]-learning_rate*grads[\"dW2\"],\n",
        "                  \"b2\": parameters[\"b2\"]-learning_rate*grads[\"db2\"],\n",
        "                  \"W3\": parameters[\"W3\"]-learning_rate*grads[\"dW3\"],\n",
        "                  \"b3\": parameters[\"b3\"]-learning_rate*grads[\"db3\"]}\n",
        "    \n",
        "    return parameters\n",
        "\n",
        "parameters = update_parameters_NN(parameters, grads, learning_rate = Learning_Rate)"
      ],
      "execution_count": 17,
      "outputs": []
    },
    {
      "cell_type": "code",
      "source": [
        "parameters"
      ],
      "metadata": {
        "colab": {
          "base_uri": "https://localhost:8080/"
        },
        "id": "Dr1EjUXEbG1D",
        "outputId": "dd2fa81e-6da8-48b7-efdc-48c96586b44c"
      },
      "execution_count": 145,
      "outputs": [
        {
          "output_type": "execute_result",
          "data": {
            "text/plain": [
              "{'W1': array([[ 0.09836513,  0.01063276, -0.06572223, -0.14277058, -0.05708503],\n",
              "        [-0.0841129 ,  0.10908082,  0.17938322, -0.18399776,  0.10782966]]),\n",
              " 'W2': array([[ 0.14663766, -0.05597481],\n",
              "        [ 0.03508035,  0.03854485]]),\n",
              " 'W3': array([[-0.05894229, -0.13236169]]),\n",
              " 'b1': array([[0.],\n",
              "        [0.]]),\n",
              " 'b2': array([[0.],\n",
              "        [0.]]),\n",
              " 'b3': array([[0.]])}"
            ]
          },
          "metadata": {},
          "execution_count": 145
        }
      ]
    },
    {
      "metadata": {
        "_uuid": "397537a1aa09ed7055d7ecac9a7985dd962532ad",
        "id": "0D9z-NNKURdh"
      },
      "cell_type": "markdown",
      "source": [
        "## Preveja os dados de teste com peso e viés atualizados (com parâmetros atualizados)"
      ]
    },
    {
      "metadata": {
        "trusted": true,
        "_uuid": "37fd0a27d0d4e761952b8a82f2f05955f922515f",
        "id": "XFFiKmTEURdi"
      },
      "cell_type": "code",
      "source": [
        "def predict_NN(parameters,x_test):\n",
        "    # x_test é a entrada para propagação direta\n",
        "    A3, cache = forward_propagation_NN(x_test,parameters)\n",
        "    Y_prediction = np.zeros((1,x_test.shape[1]))\n",
        "\n",
        "    for i in range(A3.shape[1]):\n",
        "        if A3[0,i]<= 0.5: # if smaller than 0.5, predict it as 0\n",
        "            Y_prediction[0,i] = 0\n",
        "        else: # if greater than 0.5, predict it as 1\n",
        "            Y_prediction[0,i] = 1\n",
        "\n",
        "    return Y_prediction\n",
        "\n",
        "Y_prediction = predict_NN(parameters,x_test)"
      ],
      "execution_count": 18,
      "outputs": []
    },
    {
      "cell_type": "code",
      "source": [
        "Y_prediction"
      ],
      "metadata": {
        "colab": {
          "base_uri": "https://localhost:8080/"
        },
        "id": "oJ9-Zeo8gWsl",
        "outputId": "abeee8d2-d030-46bc-f8a4-6d2d4c67647d"
      },
      "execution_count": 146,
      "outputs": [
        {
          "output_type": "execute_result",
          "data": {
            "text/plain": [
              "array([[1., 1., 1., 1., 0., 1., 1., 0., 0., 1., 1., 1., 1., 1., 1., 1.,\n",
              "        1., 0., 1., 1., 1., 1., 1., 1., 1., 0., 0., 1., 0., 1., 0., 1.,\n",
              "        1., 0., 1., 0., 1., 1., 1., 0., 0., 1., 1., 1., 1., 1., 1., 0.,\n",
              "        1., 1., 1., 1., 1., 0., 0., 1., 1., 1., 1., 0., 1., 1., 0., 1.,\n",
              "        1., 1., 1., 1., 1., 1., 0., 1., 1., 0., 1., 1., 0., 1., 1., 1.,\n",
              "        1., 1., 1., 1., 1., 0., 1., 1., 1., 1., 1., 1., 1., 1., 1., 1.,\n",
              "        1., 1., 1., 1., 1., 1., 1., 1., 1., 0., 0., 1., 0., 1., 1., 1.,\n",
              "        1., 1., 0., 1., 1., 0., 1., 1., 1., 1., 1., 1., 0., 1., 1., 1.,\n",
              "        0., 1., 1., 1., 1., 1., 1., 0., 0., 1., 1., 1., 1., 1., 0., 0.,\n",
              "        0., 1., 1., 1., 1., 0., 1., 1., 0., 1., 1., 0., 1., 1., 0., 1.,\n",
              "        1., 0., 1., 0., 0., 0., 0., 1., 1., 0., 1., 0., 1., 1., 1., 0.,\n",
              "        1., 0., 0., 1., 1., 0., 1., 1., 1., 0., 1., 1., 1., 1., 1., 1.,\n",
              "        1., 1., 0., 1., 1., 1., 0., 0., 0., 1., 0., 1., 1., 1., 1., 0.,\n",
              "        0., 1., 1., 1., 0., 0., 1., 1., 1., 0., 1., 0., 1., 1., 0., 1.,\n",
              "        1., 1., 0., 1., 1., 1., 0., 1., 1., 0., 0., 1., 1., 1., 1., 0.,\n",
              "        1., 1., 1., 1., 1., 1., 1., 1., 1., 0., 1.]])"
            ]
          },
          "metadata": {},
          "execution_count": 146
        }
      ]
    },
    {
      "metadata": {
        "_uuid": "2eaf6cafedf7787130745b7db5391c66a74548f2",
        "id": "8-fGE6kkURdi"
      },
      "cell_type": "markdown",
      "source": [
        "Criar modelo de rede neural de 3 camadas"
      ]
    },
    {
      "metadata": {
        "trusted": true,
        "_uuid": "ef4cbb3b1d48b9a4d08101dbe9d4682f8c924b49",
        "colab": {
          "base_uri": "https://localhost:8080/",
          "height": 485
        },
        "id": "up8u--sYURdi",
        "outputId": "88b9e952-7389-4472-cefb-1258e6b390f5"
      },
      "cell_type": "code",
      "source": [
        "def three_layer_neural_network(x_train, y_train,x_test,y_test, num_iterations):\n",
        "    cost_list = []\n",
        "    index_list = []\n",
        "    \n",
        "    #initialize parâmetros e tamanhos de camada\n",
        "    parameters = initialize_parameters_and_layer_sizes_NN(x_train, y_train)\n",
        "\n",
        "    for i in range(0, num_iterations):\n",
        "        # forward propagation\n",
        "        A3, cache = forward_propagation_NN(x_train,parameters)\n",
        "        # calcular custo\n",
        "        cost = compute_cost_NN(A3, y_train, parameters)\n",
        "        # backward propagation\n",
        "        grads = backward_propagation_NN(parameters, cache, x_train, y_train)\n",
        "        # update parameters\n",
        "        parameters = update_parameters_NN(parameters, grads)\n",
        "        \n",
        "        if i % 100 == 0: # para visualizar dados em cada 100 iterações\n",
        "            cost_list.append(cost)\n",
        "            index_list.append(i)\n",
        "\n",
        "    figure(num=None, figsize=(8, 6), dpi=80, facecolor='w', edgecolor='k')\n",
        "    plt.plot(index_list,cost_list)\n",
        "    plt.xticks(index_list,rotation='vertical')\n",
        "    plt.xlabel(\"Number of Iterarions\", fontsize = 14)\n",
        "    plt.ylabel(\"Cost\", fontsize = 14)\n",
        "    plt.show()\n",
        "    \n",
        "    # predict\n",
        "    y_prediction_test = predict_NN(parameters,x_test)\n",
        "    y_prediction_train = predict_NN(parameters,x_train)\n",
        "\n",
        "    # Print train/test Accuracies\n",
        "    print(\"train accuracy: %{}\".format(round(100 - np.mean(np.abs(y_prediction_train - y_train)) * 100,3)))\n",
        "    print(\"test accuracy: %{}\".format(round(100 - np.mean(np.abs(y_prediction_test - y_test)) * 100,3)))\n",
        "    return parameters\n",
        "\n",
        "parameters = three_layer_neural_network(x_train, y_train,x_test,y_test, num_iterations=5000)"
      ],
      "execution_count": 19,
      "outputs": [
        {
          "output_type": "display_data",
          "data": {
            "text/plain": [
              "<Figure size 640x480 with 1 Axes>"
            ],
            "image/png": "[encoded data removed]"
          },
          "metadata": {}
        },
        {
          "output_type": "stream",
          "name": "stdout",
          "text": [
            "train accuracy: %83.533\n",
            "test accuracy: %85.657\n"
          ]
        }
      ]
    }
  ],
  "metadata": {
    "kernelspec": {
      "display_name": "Python 3",
      "language": "python",
      "name": "python3"
    },
    "language_info": {
      "name": "python",
      "version": "3.6.6",
      "mimetype": "text/x-python",
      "codemirror_mode": {
        "name": "ipython",
        "version": 3
      },
      "pygments_lexer": "ipython3",
      "nbconvert_exporter": "python",
      "file_extension": ".py"
    },
    "colab": {
      "name": "RNA_FINAL.ipynb",
      "provenance": [],
      "collapsed_sections": []
    }
  },
  "nbformat": 4,
  "nbformat_minor": 0
}